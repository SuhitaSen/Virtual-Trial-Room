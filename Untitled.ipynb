{
 "cells": [
  {
   "cell_type": "code",
   "execution_count": 1,
   "id": "009536f6",
   "metadata": {},
   "outputs": [
    {
     "name": "stdout",
     "output_type": "stream",
     "text": [
      "Requirement already satisfied: opencv-python in c:\\users\\suhita sen\\anaconda3\\lib\\site-packages (4.9.0.80)\n",
      "Requirement already satisfied: numpy>=1.17.3 in c:\\users\\suhita sen\\anaconda3\\lib\\site-packages (from opencv-python) (1.26.4)\n",
      "Note: you may need to restart the kernel to use updated packages.\n"
     ]
    }
   ],
   "source": [
    "pip install opencv-python"
   ]
  },
  {
   "cell_type": "code",
   "execution_count": 2,
   "id": "b1e0c79b",
   "metadata": {},
   "outputs": [
    {
     "name": "stdout",
     "output_type": "stream",
     "text": [
      "Requirement already satisfied: cvzone in c:\\users\\suhita sen\\anaconda3\\lib\\site-packages (1.6.1)\n",
      "Requirement already satisfied: opencv-python in c:\\users\\suhita sen\\anaconda3\\lib\\site-packages (from cvzone) (4.9.0.80)\n",
      "Requirement already satisfied: numpy in c:\\users\\suhita sen\\anaconda3\\lib\\site-packages (from cvzone) (1.26.4)\n",
      "Note: you may need to restart the kernel to use updated packages.\n"
     ]
    }
   ],
   "source": [
    "pip install cvzone"
   ]
  },
  {
   "cell_type": "code",
   "execution_count": 3,
   "id": "e0d7157d",
   "metadata": {},
   "outputs": [
    {
     "name": "stdout",
     "output_type": "stream",
     "text": [
      "Requirement already satisfied: mediapipe in c:\\users\\suhita sen\\anaconda3\\lib\\site-packages (0.10.11)\n",
      "Requirement already satisfied: attrs>=19.1.0 in c:\\users\\suhita sen\\anaconda3\\lib\\site-packages (from mediapipe) (21.2.0)\n",
      "Requirement already satisfied: absl-py in c:\\users\\suhita sen\\anaconda3\\lib\\site-packages (from mediapipe) (2.1.0)\n",
      "Requirement already satisfied: protobuf<4,>=3.11 in c:\\users\\suhita sen\\anaconda3\\lib\\site-packages (from mediapipe) (3.20.3)\n",
      "Requirement already satisfied: flatbuffers>=2.0 in c:\\users\\suhita sen\\anaconda3\\lib\\site-packages (from mediapipe) (24.3.25)\n",
      "Requirement already satisfied: sounddevice>=0.4.4 in c:\\users\\suhita sen\\anaconda3\\lib\\site-packages (from mediapipe) (0.4.6)\n",
      "Requirement already satisfied: numpy in c:\\users\\suhita sen\\anaconda3\\lib\\site-packages (from mediapipe) (1.26.4)\n",
      "Requirement already satisfied: jax in c:\\users\\suhita sen\\anaconda3\\lib\\site-packages (from mediapipe) (0.4.26)\n",
      "Requirement already satisfied: opencv-contrib-python in c:\\users\\suhita sen\\anaconda3\\lib\\site-packages (from mediapipe) (4.9.0.80)\n",
      "Requirement already satisfied: matplotlib in c:\\users\\suhita sen\\anaconda3\\lib\\site-packages (from mediapipe) (3.4.3)\n",
      "Requirement already satisfied: CFFI>=1.0 in c:\\users\\suhita sen\\anaconda3\\lib\\site-packages (from sounddevice>=0.4.4->mediapipe) (1.14.6)\n",
      "Requirement already satisfied: pycparser in c:\\users\\suhita sen\\anaconda3\\lib\\site-packages (from CFFI>=1.0->sounddevice>=0.4.4->mediapipe) (2.20)\n",
      "Requirement already satisfied: opt-einsum in c:\\users\\suhita sen\\anaconda3\\lib\\site-packages (from jax->mediapipe) (3.3.0)\n",
      "Requirement already satisfied: scipy>=1.9 in c:\\users\\suhita sen\\anaconda3\\lib\\site-packages (from jax->mediapipe) (1.13.0)\n",
      "Requirement already satisfied: ml-dtypes>=0.2.0 in c:\\users\\suhita sen\\anaconda3\\lib\\site-packages (from jax->mediapipe) (0.4.0)\n",
      "Requirement already satisfied: importlib-metadata>=4.6 in c:\\users\\suhita sen\\anaconda3\\lib\\site-packages (from jax->mediapipe) (4.8.1)\n",
      "Requirement already satisfied: zipp>=0.5 in c:\\users\\suhita sen\\anaconda3\\lib\\site-packages (from importlib-metadata>=4.6->jax->mediapipe) (3.6.0)\n",
      "Requirement already satisfied: python-dateutil>=2.7 in c:\\users\\suhita sen\\anaconda3\\lib\\site-packages (from matplotlib->mediapipe) (2.8.2)\n",
      "Requirement already satisfied: pyparsing>=2.2.1 in c:\\users\\suhita sen\\anaconda3\\lib\\site-packages (from matplotlib->mediapipe) (3.0.4)\n",
      "Requirement already satisfied: kiwisolver>=1.0.1 in c:\\users\\suhita sen\\anaconda3\\lib\\site-packages (from matplotlib->mediapipe) (1.3.1)\n",
      "Requirement already satisfied: cycler>=0.10 in c:\\users\\suhita sen\\anaconda3\\lib\\site-packages (from matplotlib->mediapipe) (0.10.0)\n",
      "Requirement already satisfied: pillow>=6.2.0 in c:\\users\\suhita sen\\anaconda3\\lib\\site-packages (from matplotlib->mediapipe) (8.4.0)\n",
      "Requirement already satisfied: six in c:\\users\\suhita sen\\anaconda3\\lib\\site-packages (from cycler>=0.10->matplotlib->mediapipe) (1.16.0)\n",
      "Note: you may need to restart the kernel to use updated packages.\n"
     ]
    }
   ],
   "source": [
    "pip install mediapipe"
   ]
  },
  {
   "cell_type": "code",
   "execution_count": null,
   "id": "72097432",
   "metadata": {},
   "outputs": [],
   "source": [
    "import os\n",
    "import cvzone\n",
    "import cv2\n",
    "from cvzone.PoseModule import PoseDetector\n",
    "\n",
    "cap = cv2.VideoCapture(0)\n",
    "detector = PoseDetector()\n",
    "\n",
    "shirtFolderPath = \"Resources/Shirts\"\n",
    "listShirts = os.listdir(shirtFolderPath)\n",
    "fixedRatio = 262 / 190  \n",
    "shirtRatioHeightWidth = 581 / 440\n",
    "imageNumber = 0\n",
    "imgButtonRight = cv2.imread(\"Resources/button.png\", cv2.IMREAD_UNCHANGED)\n",
    "imgButtonLeft = cv2.flip(imgButtonRight, 1)\n",
    "counterRight = 0\n",
    "counterLeft = 0\n",
    "selectionSpeed = 10\n",
    "\n",
    "while True:\n",
    "    success, img = cap.read()\n",
    "    img = detector.findPose(img)\n",
    "    lmList, bboxInfo = detector.findPosition(img, bboxWithHands=False, draw=False)\n",
    "\n",
    "    if lmList:\n",
    "        lm11 = lmList[11][0:2]\n",
    "        lm12 = lmList[12][0:2]\n",
    "\n",
    "        imgShirt = cv2.imread(os.path.join(shirtFolderPath, listShirts[imageNumber]), cv2.IMREAD_UNCHANGED)\n",
    "        widthOfShirt = int((lm11[0] - lm12[0]) * fixedRatio)\n",
    "        imgShirt = cv2.resize(imgShirt, (widthOfShirt, int(widthOfShirt * shirtRatioHeightWidth)))\n",
    "        currentScale = (lm11[0] - lm12[0]) / 190\n",
    "        offset = int(44 * currentScale), int(48 * currentScale)\n",
    "\n",
    "        try:\n",
    "            img = cvzone.overlayPNG(img, imgShirt, (lm12[0] - offset[0], lm12[1] - offset[1]))\n",
    "        except:\n",
    "            pass\n",
    "\n",
    "        img = cvzone.overlayPNG(img, imgButtonRight, (1074, 293))\n",
    "        img = cvzone.overlayPNG(img, imgButtonLeft, (72, 293))\n",
    "\n",
    "        if lmList[16][1] < 300:\n",
    "            counterRight += 1\n",
    "            cv2.ellipse(img, (139, 360), (66, 66), 0, 0, counterRight * selectionSpeed, (0, 255, 0), 20)\n",
    "            if counterRight * selectionSpeed > 360:\n",
    "                counterRight = 0\n",
    "                if imageNumber < len(listShirts) - 1:\n",
    "                    imageNumber += 1\n",
    "        elif lmList[15][1] > 900:\n",
    "            counterLeft += 1\n",
    "            cv2.ellipse(img, (1138, 360), (66, 66), 0, 0, counterLeft * selectionSpeed, (0, 255, 0), 20)\n",
    "            if counterLeft * selectionSpeed > 360:\n",
    "                counterLeft = 0\n",
    "                if imageNumber > 0:\n",
    "                    imageNumber -= 1\n",
    "\n",
    "        else:\n",
    "            counterRight = 0\n",
    "            counterLeft = 0\n",
    "\n",
    "    cv2.imshow(\"Image\", img)\n",
    "    key = cv2.waitKey(1) & 0xFF  # Wait for 1ms and get the key\n",
    "\n",
    "    if key == ord('q'):  # If 'q' key is pressed\n",
    "        break  # Exit the loop\n",
    "\n",
    "cap.release()\n",
    "cv2.destroyAllWindows()\n"
   ]
  },
  {
   "cell_type": "code",
   "execution_count": null,
   "id": "67a573e9",
   "metadata": {},
   "outputs": [],
   "source": []
  },
  {
   "cell_type": "code",
   "execution_count": null,
   "id": "11861659",
   "metadata": {},
   "outputs": [],
   "source": []
  }
 ],
 "metadata": {
  "kernelspec": {
   "display_name": "Python 3 (ipykernel)",
   "language": "python",
   "name": "python3"
  },
  "language_info": {
   "codemirror_mode": {
    "name": "ipython",
    "version": 3
   },
   "file_extension": ".py",
   "mimetype": "text/x-python",
   "name": "python",
   "nbconvert_exporter": "python",
   "pygments_lexer": "ipython3",
   "version": "3.9.7"
  }
 },
 "nbformat": 4,
 "nbformat_minor": 5
}
